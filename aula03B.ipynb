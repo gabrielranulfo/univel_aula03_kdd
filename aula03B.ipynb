{
 "cells": [
  {
   "cell_type": "code",
   "execution_count": null,
   "id": "dc270c91",
   "metadata": {},
   "outputs": [],
   "source": [
    "!pip install pandas numpy category_encoders"
   ]
  },
  {
   "cell_type": "code",
   "execution_count": null,
   "id": "2a6f7f7e",
   "metadata": {},
   "outputs": [],
   "source": [
    "import pandas as pd"
   ]
  },
  {
   "cell_type": "code",
   "execution_count": null,
   "id": "575c7bf4",
   "metadata": {},
   "outputs": [],
   "source": [
    "df_cliente1 = pd.read_csv('data/clientes.csv')\n",
    "df_cliente2 = pd.read_csv('data/clientes 2.csv')"
   ]
  }
 ],
 "metadata": {
  "language_info": {
   "name": "python"
  }
 },
 "nbformat": 4,
 "nbformat_minor": 5
}
